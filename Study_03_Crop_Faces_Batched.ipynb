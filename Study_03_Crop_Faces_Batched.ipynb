{
 "cells": [
  {
   "cell_type": "markdown",
   "id": "ba80415d-9ad5-4a10-b766-b2b69692d3be",
   "metadata": {},
   "source": [
    "# Finding all facial landmarks\n",
    "\n",
    "- run detector on full datset, find all face \"candidates\"\n",
    "- filter them by probability\n",
    "- run landmark coordinates regresson on all \"good\" faces\n",
    "- save landmark coodrinates"
   ]
  },
  {
   "cell_type": "code",
   "execution_count": 39,
   "id": "3e63fe62-48a2-409f-9285-5ec9df9aa6ed",
   "metadata": {},
   "outputs": [],
   "source": [
    "%matplotlib inline"
   ]
  },
  {
   "cell_type": "code",
   "execution_count": 2,
   "id": "47d77be9-feea-4596-9c02-78359b5de255",
   "metadata": {
    "tags": []
   },
   "outputs": [],
   "source": [
    "from tqdm.notebook import tqdm\n",
    "import matplotlib.pyplot as plt\n",
    "import matplotlib as mpl\n",
    "\n",
    "import gc\n",
    "import os\n",
    "import pandas as pd\n",
    "from PIL import Image\n",
    "import mmcv\n",
    "import requests\n",
    "import time\n",
    "import pickle\n",
    "\n",
    "# mpl.use('TkAgg')\n",
    "mpl.rcParams[\"figure.facecolor\"] = 'w'\n",
    "mpl.rcParams[\"axes.facecolor\"] = 'w'\n",
    "mpl.rcParams[\"savefig.facecolor\"] = 'w'\n",
    "\n",
    "import torch\n",
    "from torch import nn\n",
    "from torch.utils.data import Dataset, DataLoader\n",
    "import json\n",
    "import albumentations as A\n",
    "from albumentations.pytorch import ToTensorV2\n",
    "import numpy as np\n",
    "import cv2"
   ]
  },
  {
   "cell_type": "code",
   "execution_count": 3,
   "id": "4b5ddcdb-fe8c-4ccb-95f8-daa88835c67b",
   "metadata": {},
   "outputs": [],
   "source": [
    "def clear_GPU():\n",
    "    gc.collect()\n",
    "    torch.cuda.empty_cache()\n",
    "    gc.collect()\n",
    "    torch.cuda.empty_cache()"
   ]
  },
  {
   "cell_type": "code",
   "execution_count": 4,
   "id": "71f42be1-ca03-4806-a661-2be8dd470676",
   "metadata": {},
   "outputs": [
    {
     "name": "stdout",
     "output_type": "stream",
     "text": [
      "num_workers = 8\n"
     ]
    }
   ],
   "source": [
    "if 'nt' in os.name:\n",
    "    num_workers = 0\n",
    "    path = 'D:/DATASETS_ML/faces_dataset/'\n",
    "else:\n",
    "    num_workers = 8\n",
    "    path = '/home/sergey/DATASETS_ML/faces_dataset/'\n",
    "print('num_workers =', num_workers)"
   ]
  },
  {
   "cell_type": "code",
   "execution_count": 5,
   "id": "d769f44b-c239-4d9d-bf4c-c9b8f44c1de6",
   "metadata": {},
   "outputs": [
    {
     "name": "stdout",
     "output_type": "stream",
     "text": [
      "cuda\n"
     ]
    }
   ],
   "source": [
    "device = torch.device('cuda' if torch.cuda.is_available() else 'cpu')\n",
    "print(device)"
   ]
  },
  {
   "cell_type": "code",
   "execution_count": 6,
   "id": "cd47be30-9458-439a-b6e0-55fd84dd8364",
   "metadata": {},
   "outputs": [],
   "source": [
    "ds_path = '/home/sergey/DATASETS_ML/celebA_full/'\n",
    "proj_path = os.getcwd()\n",
    "landmark_path = os.getcwd() + '/models/landmark/'\n",
    "detefction_path = os.getcwd() + '/models/detection/'\n",
    "\n",
    "# tabular data\n",
    "table_path = os.getcwd() + '/tables/'\n",
    "bbox_path = table_path + '/detected_bboxes.cvs'\n",
    "fin_landmark_path = table_path + '/final_landmarks.pkl'\n",
    "det_landmark_path = table_path + '/detected_landmarks.pkl'"
   ]
  },
  {
   "cell_type": "markdown",
   "id": "38771674-a5f6-454b-a509-c8c524c2b243",
   "metadata": {},
   "source": [
    "# Import models\n",
    "\n",
    "Landmark regressor."
   ]
  },
  {
   "cell_type": "code",
   "execution_count": 7,
   "id": "926e6367-7c7e-4fc2-a2e7-a82311601b56",
   "metadata": {},
   "outputs": [],
   "source": [
    "class FaceRegressionModel(nn.Module):\n",
    "    def __init__(self, backbone, num_points=5, hidden_size=2**11):\n",
    "        '''\n",
    "        backbone - CNN for reature extraction\n",
    "        num_points - number of predicted points (each point has two coordinates)\n",
    "        hidden_size - number of neurons in hidden FC layer before output layer\n",
    "        '''\n",
    "        super(FaceRegressionModel, self).__init__()\n",
    "        self.num_points = num_points\n",
    "        self.backbone = backbone\n",
    "\n",
    "        self.head = nn.Sequential(\n",
    "            nn.Flatten(), # now the head can work with any conv result\n",
    "            nn.LazyLinear(hidden_size),\n",
    "            nn.LeakyReLU(0.05),\n",
    "            nn.LazyLinear(num_points * 2)\n",
    "        )\n",
    "\n",
    "    def forward(self, tensor):\n",
    "        tensor = self.backbone(tensor)\n",
    "        tensor = self.head(tensor)\n",
    "        tensor = tensor.view(tensor.shape[0], self.num_points, -1)\n",
    "        return tensor"
   ]
  },
  {
   "cell_type": "markdown",
   "id": "5dfb1f3a-a6e6-446d-afe2-f4062998c250",
   "metadata": {},
   "source": [
    "YOLO detector."
   ]
  },
  {
   "cell_type": "code",
   "execution_count": 8,
   "id": "4e640cc3-9b18-4981-a731-5d8aeea187fb",
   "metadata": {},
   "outputs": [
    {
     "name": "stderr",
     "output_type": "stream",
     "text": [
      "Downloading: \"https://github.com/ultralytics/yolov5/archive/master.zip\" to /home/sergey/.cache/torch/hub/master.zip\n",
      "YOLOv5 🚀 2022-7-3 Python-3.9.7 torch-1.11.0+cu113 CUDA:0 (NVIDIA GeForce RTX 3060, 12031MiB)\n",
      "\n",
      "Fusing layers... \n",
      "Model summary: 213 layers, 7012822 parameters, 0 gradients\n",
      "Adding AutoShape... \n"
     ]
    }
   ],
   "source": [
    "detector = torch.hub.load('ultralytics/yolov5',\n",
    "                           'custom', \n",
    "                           path=detefction_path+'best.pt', \n",
    "                           force_reload=True, \n",
    "                          )"
   ]
  },
  {
   "cell_type": "markdown",
   "id": "7b01d7cc-c9a9-434e-83e3-2b17ab367fe2",
   "metadata": {},
   "source": [
    "# Prepare dataset"
   ]
  },
  {
   "cell_type": "code",
   "execution_count": 9,
   "id": "f707cfbd-22ea-4d2b-bd3e-5861cb7a0640",
   "metadata": {},
   "outputs": [],
   "source": [
    "files = []\n",
    "\n",
    "for dirpath, dirnames, filenames in os.walk(ds_path+'img_celeba'):\n",
    "    for fname in filenames:\n",
    "        fpath = os.path.join(ds_path+'img_celeba', fname)\n",
    "        files.append(fpath)"
   ]
  },
  {
   "cell_type": "code",
   "execution_count": 10,
   "id": "81df330c-dcb2-46db-b23f-a5abc88a1ac7",
   "metadata": {},
   "outputs": [],
   "source": [
    "files = sorted(files)"
   ]
  },
  {
   "cell_type": "code",
   "execution_count": 11,
   "id": "35459d62-aa66-4c5a-a995-eb326b146c59",
   "metadata": {},
   "outputs": [],
   "source": [
    "class UncroppedDataset(Dataset):\n",
    "    def __init__(self, files_list):\n",
    "        self.files = files_list\n",
    "    \n",
    "    def __len__(self):\n",
    "        return len(self.files)\n",
    "    \n",
    "    def __getitem__(self, idx):\n",
    "        return self.files[idx]"
   ]
  },
  {
   "cell_type": "markdown",
   "id": "c95a19d6-59be-44b8-9788-e5c9b292b541",
   "metadata": {},
   "source": [
    "# Find BBoxes"
   ]
  },
  {
   "cell_type": "code",
   "execution_count": 12,
   "id": "21197c4c-63f6-4ed6-bc71-1c3d32f2b3a7",
   "metadata": {},
   "outputs": [
    {
     "data": {
      "application/vnd.jupyter.widget-view+json": {
       "model_id": "591b562e0701458e8eff3047cf076629",
       "version_major": 2,
       "version_minor": 0
      },
      "text/plain": [
       "  0%|          | 0/676 [00:00<?, ?it/s]"
      ]
     },
     "metadata": {},
     "output_type": "display_data"
    }
   ],
   "source": [
    "clear_GPU()\n",
    "\n",
    "ds = UncroppedDataset(files)\n",
    "dl = DataLoader(ds, \n",
    "                batch_size=300, \n",
    "                num_workers=num_workers)\n",
    "\n",
    "bbox_list = []\n",
    "\n",
    "for f in tqdm(dl):\n",
    "    res = detector(f)\n",
    "    res = res.xyxy\n",
    "    res = [a.cpu().numpy() for a in res]\n",
    "    bbox_list.extend(res)"
   ]
  },
  {
   "cell_type": "code",
   "execution_count": 13,
   "id": "2d0bbb01-e9e6-4193-927f-efbd1b36137f",
   "metadata": {},
   "outputs": [
    {
     "data": {
      "text/plain": [
       "202599"
      ]
     },
     "execution_count": 13,
     "metadata": {},
     "output_type": "execute_result"
    }
   ],
   "source": [
    "len(bbox_list)"
   ]
  },
  {
   "cell_type": "markdown",
   "id": "2586a357-52d5-4f26-a5c9-850d04a66bbc",
   "metadata": {},
   "source": [
    "Transform bboxes to single np array."
   ]
  },
  {
   "cell_type": "code",
   "execution_count": 14,
   "id": "1e347433-a2d1-422e-a1ef-972b128e9269",
   "metadata": {},
   "outputs": [],
   "source": [
    "image_idx_list = []\n",
    "bbox_idx_list = []\n",
    "files_list = []\n",
    "\n",
    "for image_idx, bboxes in enumerate(bbox_list):\n",
    "    for bbox_idx, bbox in enumerate(bboxes):\n",
    "        image_idx_list.append(image_idx)\n",
    "        files_list.append(files[image_idx])\n",
    "        bbox_idx_list.append(bbox_idx)\n",
    "        \n",
    "image_idx_list = np.array(image_idx_list)[:,None]\n",
    "bbox_idx_list = np.array(bbox_idx_list)[:,None]"
   ]
  },
  {
   "cell_type": "markdown",
   "id": "35d10222-6ae2-4a0e-b521-e3ca76d6a972",
   "metadata": {},
   "source": [
    "To DataFrame."
   ]
  },
  {
   "cell_type": "code",
   "execution_count": 15,
   "id": "cc96acf0-0ad8-42e4-a1d5-aa574fc650d2",
   "metadata": {},
   "outputs": [
    {
     "data": {
      "text/html": [
       "<div>\n",
       "<style scoped>\n",
       "    .dataframe tbody tr th:only-of-type {\n",
       "        vertical-align: middle;\n",
       "    }\n",
       "\n",
       "    .dataframe tbody tr th {\n",
       "        vertical-align: top;\n",
       "    }\n",
       "\n",
       "    .dataframe thead th {\n",
       "        text-align: right;\n",
       "    }\n",
       "</style>\n",
       "<table border=\"1\" class=\"dataframe\">\n",
       "  <thead>\n",
       "    <tr style=\"text-align: right;\">\n",
       "      <th></th>\n",
       "      <th>x1</th>\n",
       "      <th>y1</th>\n",
       "      <th>x2</th>\n",
       "      <th>y2</th>\n",
       "      <th>prob</th>\n",
       "      <th>image_idx</th>\n",
       "      <th>bbox_idx</th>\n",
       "      <th>bbox_count</th>\n",
       "      <th>file</th>\n",
       "    </tr>\n",
       "  </thead>\n",
       "  <tbody>\n",
       "    <tr>\n",
       "      <th>0</th>\n",
       "      <td>97.129745</td>\n",
       "      <td>71.833961</td>\n",
       "      <td>318.895782</td>\n",
       "      <td>380.629730</td>\n",
       "      <td>0.946586</td>\n",
       "      <td>0</td>\n",
       "      <td>0</td>\n",
       "      <td>1</td>\n",
       "      <td>/home/sergey/DATASETS_ML/celebA_full/img_celeb...</td>\n",
       "    </tr>\n",
       "    <tr>\n",
       "      <th>1</th>\n",
       "      <td>70.320709</td>\n",
       "      <td>94.198738</td>\n",
       "      <td>291.505341</td>\n",
       "      <td>400.276886</td>\n",
       "      <td>0.955572</td>\n",
       "      <td>1</td>\n",
       "      <td>0</td>\n",
       "      <td>1</td>\n",
       "      <td>/home/sergey/DATASETS_ML/celebA_full/img_celeb...</td>\n",
       "    </tr>\n",
       "    <tr>\n",
       "      <th>2</th>\n",
       "      <td>210.512192</td>\n",
       "      <td>62.626431</td>\n",
       "      <td>295.257965</td>\n",
       "      <td>179.285965</td>\n",
       "      <td>0.818118</td>\n",
       "      <td>2</td>\n",
       "      <td>0</td>\n",
       "      <td>1</td>\n",
       "      <td>/home/sergey/DATASETS_ML/celebA_full/img_celeb...</td>\n",
       "    </tr>\n",
       "    <tr>\n",
       "      <th>3</th>\n",
       "      <td>563.244446</td>\n",
       "      <td>225.734924</td>\n",
       "      <td>1180.686279</td>\n",
       "      <td>1075.231323</td>\n",
       "      <td>0.867229</td>\n",
       "      <td>3</td>\n",
       "      <td>0</td>\n",
       "      <td>1</td>\n",
       "      <td>/home/sergey/DATASETS_ML/celebA_full/img_celeb...</td>\n",
       "    </tr>\n",
       "    <tr>\n",
       "      <th>4</th>\n",
       "      <td>236.021027</td>\n",
       "      <td>100.996231</td>\n",
       "      <td>365.401611</td>\n",
       "      <td>275.952026</td>\n",
       "      <td>0.917988</td>\n",
       "      <td>4</td>\n",
       "      <td>0</td>\n",
       "      <td>1</td>\n",
       "      <td>/home/sergey/DATASETS_ML/celebA_full/img_celeb...</td>\n",
       "    </tr>\n",
       "  </tbody>\n",
       "</table>\n",
       "</div>"
      ],
      "text/plain": [
       "           x1          y1           x2           y2      prob  image_idx  \\\n",
       "0   97.129745   71.833961   318.895782   380.629730  0.946586          0   \n",
       "1   70.320709   94.198738   291.505341   400.276886  0.955572          1   \n",
       "2  210.512192   62.626431   295.257965   179.285965  0.818118          2   \n",
       "3  563.244446  225.734924  1180.686279  1075.231323  0.867229          3   \n",
       "4  236.021027  100.996231   365.401611   275.952026  0.917988          4   \n",
       "\n",
       "   bbox_idx  bbox_count                                               file  \n",
       "0         0           1  /home/sergey/DATASETS_ML/celebA_full/img_celeb...  \n",
       "1         0           1  /home/sergey/DATASETS_ML/celebA_full/img_celeb...  \n",
       "2         0           1  /home/sergey/DATASETS_ML/celebA_full/img_celeb...  \n",
       "3         0           1  /home/sergey/DATASETS_ML/celebA_full/img_celeb...  \n",
       "4         0           1  /home/sergey/DATASETS_ML/celebA_full/img_celeb...  "
      ]
     },
     "execution_count": 15,
     "metadata": {},
     "output_type": "execute_result"
    }
   ],
   "source": [
    "tmp = np.concatenate([np.vstack(bbox_list), image_idx_list, bbox_idx_list], 1)\n",
    "columns = ['x1', 'y1', 'x2', 'y2', 'prob', 'class', 'image_idx', 'bbox_idx']\n",
    "bbox_df = pd.DataFrame(tmp, columns=columns)\n",
    "bbox_df = bbox_df.drop(columns='class')\n",
    "bbox_df[['image_idx', 'bbox_idx']] = bbox_df[['image_idx', 'bbox_idx']].astype(int)\n",
    "bbox_df['bbox_count'] = bbox_df.groupby('image_idx')['bbox_idx'].transform('count').astype(int)\n",
    "bbox_df['file'] = pd.Series(files_list)\n",
    "bbox_df.head()"
   ]
  },
  {
   "cell_type": "markdown",
   "id": "000633c2-a55a-476c-95b7-6a395c3b06ef",
   "metadata": {},
   "source": [
    "Save to file."
   ]
  },
  {
   "cell_type": "code",
   "execution_count": 16,
   "id": "9629af45-145d-4daf-9f05-422611638bb0",
   "metadata": {},
   "outputs": [],
   "source": [
    "bbox_df.to_csv(bbox_path)"
   ]
  },
  {
   "cell_type": "code",
   "execution_count": 17,
   "id": "be580af2-f90a-476e-9551-a0b5439ef041",
   "metadata": {},
   "outputs": [
    {
     "data": {
      "text/html": [
       "<div>\n",
       "<style scoped>\n",
       "    .dataframe tbody tr th:only-of-type {\n",
       "        vertical-align: middle;\n",
       "    }\n",
       "\n",
       "    .dataframe tbody tr th {\n",
       "        vertical-align: top;\n",
       "    }\n",
       "\n",
       "    .dataframe thead th {\n",
       "        text-align: right;\n",
       "    }\n",
       "</style>\n",
       "<table border=\"1\" class=\"dataframe\">\n",
       "  <thead>\n",
       "    <tr style=\"text-align: right;\">\n",
       "      <th></th>\n",
       "      <th>x1</th>\n",
       "      <th>y1</th>\n",
       "      <th>x2</th>\n",
       "      <th>y2</th>\n",
       "      <th>prob</th>\n",
       "      <th>image_idx</th>\n",
       "      <th>bbox_idx</th>\n",
       "      <th>bbox_count</th>\n",
       "      <th>file</th>\n",
       "    </tr>\n",
       "  </thead>\n",
       "  <tbody>\n",
       "    <tr>\n",
       "      <th>0</th>\n",
       "      <td>97.129745</td>\n",
       "      <td>71.833961</td>\n",
       "      <td>318.895782</td>\n",
       "      <td>380.629730</td>\n",
       "      <td>0.946586</td>\n",
       "      <td>0</td>\n",
       "      <td>0</td>\n",
       "      <td>1</td>\n",
       "      <td>/home/sergey/DATASETS_ML/celebA_full/img_celeb...</td>\n",
       "    </tr>\n",
       "    <tr>\n",
       "      <th>1</th>\n",
       "      <td>70.320709</td>\n",
       "      <td>94.198738</td>\n",
       "      <td>291.505341</td>\n",
       "      <td>400.276886</td>\n",
       "      <td>0.955572</td>\n",
       "      <td>1</td>\n",
       "      <td>0</td>\n",
       "      <td>1</td>\n",
       "      <td>/home/sergey/DATASETS_ML/celebA_full/img_celeb...</td>\n",
       "    </tr>\n",
       "    <tr>\n",
       "      <th>2</th>\n",
       "      <td>210.512192</td>\n",
       "      <td>62.626431</td>\n",
       "      <td>295.257965</td>\n",
       "      <td>179.285965</td>\n",
       "      <td>0.818118</td>\n",
       "      <td>2</td>\n",
       "      <td>0</td>\n",
       "      <td>1</td>\n",
       "      <td>/home/sergey/DATASETS_ML/celebA_full/img_celeb...</td>\n",
       "    </tr>\n",
       "    <tr>\n",
       "      <th>3</th>\n",
       "      <td>563.244446</td>\n",
       "      <td>225.734924</td>\n",
       "      <td>1180.686279</td>\n",
       "      <td>1075.231323</td>\n",
       "      <td>0.867229</td>\n",
       "      <td>3</td>\n",
       "      <td>0</td>\n",
       "      <td>1</td>\n",
       "      <td>/home/sergey/DATASETS_ML/celebA_full/img_celeb...</td>\n",
       "    </tr>\n",
       "    <tr>\n",
       "      <th>4</th>\n",
       "      <td>236.021027</td>\n",
       "      <td>100.996231</td>\n",
       "      <td>365.401611</td>\n",
       "      <td>275.952026</td>\n",
       "      <td>0.917988</td>\n",
       "      <td>4</td>\n",
       "      <td>0</td>\n",
       "      <td>1</td>\n",
       "      <td>/home/sergey/DATASETS_ML/celebA_full/img_celeb...</td>\n",
       "    </tr>\n",
       "  </tbody>\n",
       "</table>\n",
       "</div>"
      ],
      "text/plain": [
       "           x1          y1           x2           y2      prob  image_idx  \\\n",
       "0   97.129745   71.833961   318.895782   380.629730  0.946586          0   \n",
       "1   70.320709   94.198738   291.505341   400.276886  0.955572          1   \n",
       "2  210.512192   62.626431   295.257965   179.285965  0.818118          2   \n",
       "3  563.244446  225.734924  1180.686279  1075.231323  0.867229          3   \n",
       "4  236.021027  100.996231   365.401611   275.952026  0.917988          4   \n",
       "\n",
       "   bbox_idx  bbox_count                                               file  \n",
       "0         0           1  /home/sergey/DATASETS_ML/celebA_full/img_celeb...  \n",
       "1         0           1  /home/sergey/DATASETS_ML/celebA_full/img_celeb...  \n",
       "2         0           1  /home/sergey/DATASETS_ML/celebA_full/img_celeb...  \n",
       "3         0           1  /home/sergey/DATASETS_ML/celebA_full/img_celeb...  \n",
       "4         0           1  /home/sergey/DATASETS_ML/celebA_full/img_celeb...  "
      ]
     },
     "execution_count": 17,
     "metadata": {},
     "output_type": "execute_result"
    }
   ],
   "source": [
    "bbox_df = pd.read_csv(bbox_path, index_col=0)\n",
    "bbox_df.head()"
   ]
  },
  {
   "cell_type": "markdown",
   "id": "8a5f8522-5c78-4890-81e0-1f6685f4aa14",
   "metadata": {},
   "source": [
    "Lets see if there are any images with 2 or more bbox."
   ]
  },
  {
   "cell_type": "code",
   "execution_count": 18,
   "id": "31df68d0-7346-4668-a524-a5d4ed9d6bb3",
   "metadata": {},
   "outputs": [
    {
     "data": {
      "text/html": [
       "<div>\n",
       "<style scoped>\n",
       "    .dataframe tbody tr th:only-of-type {\n",
       "        vertical-align: middle;\n",
       "    }\n",
       "\n",
       "    .dataframe tbody tr th {\n",
       "        vertical-align: top;\n",
       "    }\n",
       "\n",
       "    .dataframe thead th {\n",
       "        text-align: right;\n",
       "    }\n",
       "</style>\n",
       "<table border=\"1\" class=\"dataframe\">\n",
       "  <thead>\n",
       "    <tr style=\"text-align: right;\">\n",
       "      <th></th>\n",
       "      <th>bbox_count</th>\n",
       "      <th>bbox_count</th>\n",
       "    </tr>\n",
       "  </thead>\n",
       "  <tbody>\n",
       "    <tr>\n",
       "      <th>1</th>\n",
       "      <td>200918.0</td>\n",
       "      <td>0.991703</td>\n",
       "    </tr>\n",
       "    <tr>\n",
       "      <th>2</th>\n",
       "      <td>2804.0</td>\n",
       "      <td>0.013840</td>\n",
       "    </tr>\n",
       "    <tr>\n",
       "      <th>3</th>\n",
       "      <td>249.0</td>\n",
       "      <td>0.001229</td>\n",
       "    </tr>\n",
       "    <tr>\n",
       "      <th>4</th>\n",
       "      <td>28.0</td>\n",
       "      <td>0.000138</td>\n",
       "    </tr>\n",
       "    <tr>\n",
       "      <th>5</th>\n",
       "      <td>10.0</td>\n",
       "      <td>0.000049</td>\n",
       "    </tr>\n",
       "    <tr>\n",
       "      <th>6</th>\n",
       "      <td>6.0</td>\n",
       "      <td>0.000030</td>\n",
       "    </tr>\n",
       "  </tbody>\n",
       "</table>\n",
       "</div>"
      ],
      "text/plain": [
       "   bbox_count  bbox_count\n",
       "1    200918.0    0.991703\n",
       "2      2804.0    0.013840\n",
       "3       249.0    0.001229\n",
       "4        28.0    0.000138\n",
       "5        10.0    0.000049\n",
       "6         6.0    0.000030"
      ]
     },
     "execution_count": 18,
     "metadata": {},
     "output_type": "execute_result"
    }
   ],
   "source": [
    "pd.DataFrame([bbox_df['bbox_count'].value_counts(), bbox_df['bbox_count'].value_counts()/len(files)]).T"
   ]
  },
  {
   "cell_type": "markdown",
   "id": "250e8573-59bb-42a6-b8de-a69f544ac368",
   "metadata": {},
   "source": [
    "There are some, yes.\n",
    "\n",
    "We'll just drop them!"
   ]
  },
  {
   "cell_type": "code",
   "execution_count": 19,
   "id": "57ce4de5-0fd2-46fe-85ac-93f55bd09dcf",
   "metadata": {},
   "outputs": [
    {
     "data": {
      "text/html": [
       "<div>\n",
       "<style scoped>\n",
       "    .dataframe tbody tr th:only-of-type {\n",
       "        vertical-align: middle;\n",
       "    }\n",
       "\n",
       "    .dataframe tbody tr th {\n",
       "        vertical-align: top;\n",
       "    }\n",
       "\n",
       "    .dataframe thead th {\n",
       "        text-align: right;\n",
       "    }\n",
       "</style>\n",
       "<table border=\"1\" class=\"dataframe\">\n",
       "  <thead>\n",
       "    <tr style=\"text-align: right;\">\n",
       "      <th></th>\n",
       "      <th>x1</th>\n",
       "      <th>y1</th>\n",
       "      <th>x2</th>\n",
       "      <th>y2</th>\n",
       "      <th>prob</th>\n",
       "      <th>image_idx</th>\n",
       "      <th>bbox_idx</th>\n",
       "      <th>bbox_count</th>\n",
       "      <th>file</th>\n",
       "    </tr>\n",
       "  </thead>\n",
       "  <tbody>\n",
       "    <tr>\n",
       "      <th>6870</th>\n",
       "      <td>76.253838</td>\n",
       "      <td>114.610710</td>\n",
       "      <td>162.973511</td>\n",
       "      <td>228.501251</td>\n",
       "      <td>0.250393</td>\n",
       "      <td>6837</td>\n",
       "      <td>0</td>\n",
       "      <td>1</td>\n",
       "      <td>/home/sergey/DATASETS_ML/celebA_full/img_celeb...</td>\n",
       "    </tr>\n",
       "    <tr>\n",
       "      <th>21479</th>\n",
       "      <td>504.284760</td>\n",
       "      <td>149.746170</td>\n",
       "      <td>544.819702</td>\n",
       "      <td>208.992249</td>\n",
       "      <td>0.250989</td>\n",
       "      <td>21338</td>\n",
       "      <td>0</td>\n",
       "      <td>1</td>\n",
       "      <td>/home/sergey/DATASETS_ML/celebA_full/img_celeb...</td>\n",
       "    </tr>\n",
       "    <tr>\n",
       "      <th>1736</th>\n",
       "      <td>709.588867</td>\n",
       "      <td>524.466553</td>\n",
       "      <td>909.696594</td>\n",
       "      <td>753.789673</td>\n",
       "      <td>0.251738</td>\n",
       "      <td>1733</td>\n",
       "      <td>0</td>\n",
       "      <td>1</td>\n",
       "      <td>/home/sergey/DATASETS_ML/celebA_full/img_celeb...</td>\n",
       "    </tr>\n",
       "    <tr>\n",
       "      <th>180305</th>\n",
       "      <td>110.586517</td>\n",
       "      <td>227.124298</td>\n",
       "      <td>177.359283</td>\n",
       "      <td>309.399628</td>\n",
       "      <td>0.252127</td>\n",
       "      <td>179047</td>\n",
       "      <td>0</td>\n",
       "      <td>1</td>\n",
       "      <td>/home/sergey/DATASETS_ML/celebA_full/img_celeb...</td>\n",
       "    </tr>\n",
       "    <tr>\n",
       "      <th>67498</th>\n",
       "      <td>109.228027</td>\n",
       "      <td>69.050919</td>\n",
       "      <td>259.708221</td>\n",
       "      <td>279.664459</td>\n",
       "      <td>0.252140</td>\n",
       "      <td>67061</td>\n",
       "      <td>0</td>\n",
       "      <td>1</td>\n",
       "      <td>/home/sergey/DATASETS_ML/celebA_full/img_celeb...</td>\n",
       "    </tr>\n",
       "  </tbody>\n",
       "</table>\n",
       "</div>"
      ],
      "text/plain": [
       "                x1          y1          x2          y2      prob  image_idx  \\\n",
       "6870     76.253838  114.610710  162.973511  228.501251  0.250393       6837   \n",
       "21479   504.284760  149.746170  544.819702  208.992249  0.250989      21338   \n",
       "1736    709.588867  524.466553  909.696594  753.789673  0.251738       1733   \n",
       "180305  110.586517  227.124298  177.359283  309.399628  0.252127     179047   \n",
       "67498   109.228027   69.050919  259.708221  279.664459  0.252140      67061   \n",
       "\n",
       "        bbox_idx  bbox_count  \\\n",
       "6870           0           1   \n",
       "21479          0           1   \n",
       "1736           0           1   \n",
       "180305         0           1   \n",
       "67498          0           1   \n",
       "\n",
       "                                                     file  \n",
       "6870    /home/sergey/DATASETS_ML/celebA_full/img_celeb...  \n",
       "21479   /home/sergey/DATASETS_ML/celebA_full/img_celeb...  \n",
       "1736    /home/sergey/DATASETS_ML/celebA_full/img_celeb...  \n",
       "180305  /home/sergey/DATASETS_ML/celebA_full/img_celeb...  \n",
       "67498   /home/sergey/DATASETS_ML/celebA_full/img_celeb...  "
      ]
     },
     "execution_count": 19,
     "metadata": {},
     "output_type": "execute_result"
    }
   ],
   "source": [
    "a = bbox_df[bbox_df['bbox_count'] == 1]\n",
    "a = a.sort_values(['prob'])\n",
    "a.head()"
   ]
  },
  {
   "cell_type": "markdown",
   "id": "64e9d61e-6283-4a3a-90c1-0e0e1dbe9b13",
   "metadata": {},
   "source": [
    "# Dataset for landmark regression"
   ]
  },
  {
   "cell_type": "code",
   "execution_count": 20,
   "id": "5b0536bf-ed73-497e-9474-47b2cd72647e",
   "metadata": {},
   "outputs": [],
   "source": [
    "class CroppedDataset(Dataset):\n",
    "    def __init__(self, df_in, regresson_config_path):\n",
    "        self.df = df_in\n",
    "        \n",
    "        with open(regresson_config_path) as infile:\n",
    "            cfg = json.load(infile)\n",
    "        \n",
    "        self.stats = cfg['mean'], cfg['std']\n",
    "        self.img_size = cfg['input_size'][1]\n",
    "\n",
    "        self.basic_transform = A.Compose([\n",
    "                A.Resize(self.img_size, self.img_size),\n",
    "                A.Normalize(*self.stats),\n",
    "                ToTensorV2(),\n",
    "            ])\n",
    "    \n",
    "    def __len__(self):\n",
    "        return len(self.df)\n",
    "    \n",
    "    def denorm(self, img_tensors):\n",
    "        img_tensors = img_tensors * self.stats[1][0] + self.stats[0][0]\n",
    "        if type(img_tensors) == torch.Tensor:\n",
    "            img = img_tensors.cpu().permute(1,2,0).numpy()\n",
    "        elif type(img_tensors) == np.ndarray:\n",
    "            img = np.transpose(img_tensors, (1,2,0))\n",
    "        img = np.clip(img, 0, 1)\n",
    "        return img\n",
    "    \n",
    "    def imshow(self, img_tensor):\n",
    "        img = self.denorm(img_tensor)\n",
    "        plt.imshow(img)\n",
    "        plt.axis('off')\n",
    "        plt.show()\n",
    "    \n",
    "    def __getitem__(self, idx):\n",
    "        row = self.df.iloc[idx]\n",
    "        \n",
    "        fname = row['file']\n",
    "        image = cv2.imread(fname)\n",
    "        image = cv2.cvtColor(image, cv2.COLOR_BGR2RGB)\n",
    "        \n",
    "        x1 = int(row['x1'])\n",
    "        x2 = int(row['x2'])\n",
    "        y1 = int(row['y1'])\n",
    "        y2 = int(row['y2'])\n",
    "        \n",
    "        image = image[y1:y2, x1:x2]\n",
    "        \n",
    "        return self.basic_transform(image=image)['image']"
   ]
  },
  {
   "cell_type": "code",
   "execution_count": 21,
   "id": "849cea9a-8537-45fa-8e08-3d5b63febe33",
   "metadata": {},
   "outputs": [],
   "source": [
    "ds = CroppedDataset(bbox_df, \n",
    "                    regresson_config_path=landmark_path+'/best_landmark_model_cfg.txt')\n",
    "dl = DataLoader(ds, \n",
    "                batch_size=500, \n",
    "                num_workers=num_workers,\n",
    "                shuffle=False)"
   ]
  },
  {
   "cell_type": "markdown",
   "id": "b2fe6815-a99e-4c11-a822-7aad56c5b424",
   "metadata": {},
   "source": [
    "# Find landmark coordinates"
   ]
  },
  {
   "cell_type": "code",
   "execution_count": 22,
   "id": "cf585165-690d-4c28-b8bd-2fce9e6502be",
   "metadata": {},
   "outputs": [],
   "source": [
    "regressor = torch.load(landmark_path+'/best_landmark_model.pt', \n",
    "                       map_location=torch.device(device))\n",
    "regressor.eval();"
   ]
  },
  {
   "cell_type": "code",
   "execution_count": 23,
   "id": "1b028f32-67a4-46e1-9743-a90f4c031880",
   "metadata": {},
   "outputs": [
    {
     "data": {
      "application/vnd.jupyter.widget-view+json": {
       "model_id": "871db15bd4a54e0284c3e288bf0e3f42",
       "version_major": 2,
       "version_minor": 0
      },
      "text/plain": [
       "  0%|          | 0/409 [00:00<?, ?it/s]"
      ]
     },
     "metadata": {},
     "output_type": "display_data"
    }
   ],
   "source": [
    "landmarks = []\n",
    "\n",
    "for im_batch in tqdm(dl):\n",
    "    im_batch = im_batch.to(device)\n",
    "    with torch.no_grad():\n",
    "        res = regressor(im_batch)\n",
    "    res = res.cpu().numpy()\n",
    "    res = res\n",
    "    landmarks.append(res)\n",
    "    \n",
    "landmarks = np.concatenate(landmarks, 0)"
   ]
  },
  {
   "cell_type": "code",
   "execution_count": 24,
   "id": "385d07fd-15ab-4942-9657-29eb196bb5f8",
   "metadata": {},
   "outputs": [
    {
     "data": {
      "text/plain": [
       "(204015, 5, 2)"
      ]
     },
     "execution_count": 24,
     "metadata": {},
     "output_type": "execute_result"
    }
   ],
   "source": [
    "landmarks.shape"
   ]
  },
  {
   "cell_type": "markdown",
   "id": "ec066742-b418-4110-85f1-be7873df4be3",
   "metadata": {},
   "source": [
    "Transform local coordinates to full-image coordinates."
   ]
  },
  {
   "cell_type": "code",
   "execution_count": 25,
   "id": "ba6dd492-5cf6-4ca6-8bed-9ad91ebf7548",
   "metadata": {},
   "outputs": [
    {
     "name": "stdout",
     "output_type": "stream",
     "text": [
      "CPU times: user 3.12 s, sys: 149 ms, total: 3.27 s\n",
      "Wall time: 3.16 s\n"
     ]
    }
   ],
   "source": [
    "%%time\n",
    "df = bbox_df.copy()\n",
    "df['lm'] = pd.Series([i.copy() for i in landmarks])\n",
    "\n",
    "def calculate_abs_landmarks(row):\n",
    "    arr = row['lm'].copy()\n",
    "    arr[:,0] = (row['x1'] + row['x2']) / 2 + arr[:,0] * (row['x2'] - row['x1'])\n",
    "    arr[:,1] = (row['y1'] + row['y2']) / 2 + arr[:,1] * (row['y2'] - row['y1'])\n",
    "    return arr\n",
    "\n",
    "df['lm_abs'] = df.apply(calculate_abs_landmarks, axis=1)"
   ]
  },
  {
   "cell_type": "code",
   "execution_count": 26,
   "id": "58f0f494-1044-466f-bffa-0117e4568bb6",
   "metadata": {},
   "outputs": [
    {
     "data": {
      "text/html": [
       "<div>\n",
       "<style scoped>\n",
       "    .dataframe tbody tr th:only-of-type {\n",
       "        vertical-align: middle;\n",
       "    }\n",
       "\n",
       "    .dataframe tbody tr th {\n",
       "        vertical-align: top;\n",
       "    }\n",
       "\n",
       "    .dataframe thead th {\n",
       "        text-align: right;\n",
       "    }\n",
       "</style>\n",
       "<table border=\"1\" class=\"dataframe\">\n",
       "  <thead>\n",
       "    <tr style=\"text-align: right;\">\n",
       "      <th></th>\n",
       "      <th>x1</th>\n",
       "      <th>y1</th>\n",
       "      <th>x2</th>\n",
       "      <th>y2</th>\n",
       "      <th>prob</th>\n",
       "      <th>...</th>\n",
       "      <th>bbox_idx</th>\n",
       "      <th>bbox_count</th>\n",
       "      <th>file</th>\n",
       "      <th>lm</th>\n",
       "      <th>lm_abs</th>\n",
       "    </tr>\n",
       "  </thead>\n",
       "  <tbody>\n",
       "    <tr>\n",
       "      <th>0</th>\n",
       "      <td>97.129745</td>\n",
       "      <td>71.833961</td>\n",
       "      <td>318.895782</td>\n",
       "      <td>380.629730</td>\n",
       "      <td>0.946586</td>\n",
       "      <td>...</td>\n",
       "      <td>0</td>\n",
       "      <td>1</td>\n",
       "      <td>/home/sergey/DATASETS_ML/celebA_full/img_celeb...</td>\n",
       "      <td>[[-0.18993533, -0.13224384], [0.16779032, -0.1...</td>\n",
       "      <td>[[165.89156, 185.39551], [245.22295, 176.5262]...</td>\n",
       "    </tr>\n",
       "    <tr>\n",
       "      <th>1</th>\n",
       "      <td>70.320709</td>\n",
       "      <td>94.198738</td>\n",
       "      <td>291.505341</td>\n",
       "      <td>400.276886</td>\n",
       "      <td>0.955572</td>\n",
       "      <td>...</td>\n",
       "      <td>0</td>\n",
       "      <td>1</td>\n",
       "      <td>/home/sergey/DATASETS_ML/celebA_full/img_celeb...</td>\n",
       "      <td>[[-0.1800476, -0.13378587], [0.17763418, -0.13...</td>\n",
       "      <td>[[141.08926, 206.28888], [220.20297, 205.88448...</td>\n",
       "    </tr>\n",
       "    <tr>\n",
       "      <th>2</th>\n",
       "      <td>210.512192</td>\n",
       "      <td>62.626431</td>\n",
       "      <td>295.257965</td>\n",
       "      <td>179.285965</td>\n",
       "      <td>0.818118</td>\n",
       "      <td>...</td>\n",
       "      <td>0</td>\n",
       "      <td>1</td>\n",
       "      <td>/home/sergey/DATASETS_ML/celebA_full/img_celeb...</td>\n",
       "      <td>[[-0.08188743, -0.14684221], [0.10981281, -0.1...</td>\n",
       "      <td>[[245.94545, 103.82565], [262.19125, 105.72919...</td>\n",
       "    </tr>\n",
       "    <tr>\n",
       "      <th>3</th>\n",
       "      <td>563.244446</td>\n",
       "      <td>225.734924</td>\n",
       "      <td>1180.686279</td>\n",
       "      <td>1075.231323</td>\n",
       "      <td>0.867229</td>\n",
       "      <td>...</td>\n",
       "      <td>0</td>\n",
       "      <td>1</td>\n",
       "      <td>/home/sergey/DATASETS_ML/celebA_full/img_celeb...</td>\n",
       "      <td>[[-0.118269525, -0.14782156], [0.18102467, -0....</td>\n",
       "      <td>[[798.9408, 524.9093], [983.73755, 533.18665],...</td>\n",
       "    </tr>\n",
       "    <tr>\n",
       "      <th>4</th>\n",
       "      <td>236.021027</td>\n",
       "      <td>100.996231</td>\n",
       "      <td>365.401611</td>\n",
       "      <td>275.952026</td>\n",
       "      <td>0.917988</td>\n",
       "      <td>...</td>\n",
       "      <td>0</td>\n",
       "      <td>1</td>\n",
       "      <td>/home/sergey/DATASETS_ML/celebA_full/img_celeb...</td>\n",
       "      <td>[[-0.21310681, -0.110190876], [0.19189812, -0....</td>\n",
       "      <td>[[273.1394, 169.19559], [325.53918, 160.43056]...</td>\n",
       "    </tr>\n",
       "  </tbody>\n",
       "</table>\n",
       "<p>5 rows × 11 columns</p>\n",
       "</div>"
      ],
      "text/plain": [
       "           x1          y1           x2           y2      prob  ...  bbox_idx  \\\n",
       "0   97.129745   71.833961   318.895782   380.629730  0.946586  ...         0   \n",
       "1   70.320709   94.198738   291.505341   400.276886  0.955572  ...         0   \n",
       "2  210.512192   62.626431   295.257965   179.285965  0.818118  ...         0   \n",
       "3  563.244446  225.734924  1180.686279  1075.231323  0.867229  ...         0   \n",
       "4  236.021027  100.996231   365.401611   275.952026  0.917988  ...         0   \n",
       "\n",
       "   bbox_count                                               file  \\\n",
       "0           1  /home/sergey/DATASETS_ML/celebA_full/img_celeb...   \n",
       "1           1  /home/sergey/DATASETS_ML/celebA_full/img_celeb...   \n",
       "2           1  /home/sergey/DATASETS_ML/celebA_full/img_celeb...   \n",
       "3           1  /home/sergey/DATASETS_ML/celebA_full/img_celeb...   \n",
       "4           1  /home/sergey/DATASETS_ML/celebA_full/img_celeb...   \n",
       "\n",
       "                                                  lm  \\\n",
       "0  [[-0.18993533, -0.13224384], [0.16779032, -0.1...   \n",
       "1  [[-0.1800476, -0.13378587], [0.17763418, -0.13...   \n",
       "2  [[-0.08188743, -0.14684221], [0.10981281, -0.1...   \n",
       "3  [[-0.118269525, -0.14782156], [0.18102467, -0....   \n",
       "4  [[-0.21310681, -0.110190876], [0.19189812, -0....   \n",
       "\n",
       "                                              lm_abs  \n",
       "0  [[165.89156, 185.39551], [245.22295, 176.5262]...  \n",
       "1  [[141.08926, 206.28888], [220.20297, 205.88448...  \n",
       "2  [[245.94545, 103.82565], [262.19125, 105.72919...  \n",
       "3  [[798.9408, 524.9093], [983.73755, 533.18665],...  \n",
       "4  [[273.1394, 169.19559], [325.53918, 160.43056]...  \n",
       "\n",
       "[5 rows x 11 columns]"
      ]
     },
     "execution_count": 26,
     "metadata": {},
     "output_type": "execute_result"
    }
   ],
   "source": [
    "df.head()"
   ]
  },
  {
   "cell_type": "code",
   "execution_count": 27,
   "id": "67a881ee-0176-4fc7-9bf8-cf851d2efca5",
   "metadata": {},
   "outputs": [],
   "source": [
    "df.to_pickle(det_landmark_path)"
   ]
  },
  {
   "cell_type": "code",
   "execution_count": 28,
   "id": "db73f4c4-ad10-4397-a781-ae1f170c145f",
   "metadata": {},
   "outputs": [
    {
     "name": "stdout",
     "output_type": "stream",
     "text": [
      "<class 'pandas.core.frame.DataFrame'>\n",
      "Int64Index: 204015 entries, 0 to 204014\n",
      "Data columns (total 11 columns):\n",
      " #   Column      Non-Null Count   Dtype  \n",
      "---  ------      --------------   -----  \n",
      " 0   x1          204015 non-null  float64\n",
      " 1   y1          204015 non-null  float64\n",
      " 2   x2          204015 non-null  float64\n",
      " 3   y2          204015 non-null  float64\n",
      " 4   prob        204015 non-null  float64\n",
      " 5   image_idx   204015 non-null  int64  \n",
      " 6   bbox_idx    204015 non-null  int64  \n",
      " 7   bbox_count  204015 non-null  int64  \n",
      " 8   file        204015 non-null  object \n",
      " 9   lm          204015 non-null  object \n",
      " 10  lm_abs      204015 non-null  object \n",
      "dtypes: float64(5), int64(3), object(3)\n",
      "memory usage: 18.7+ MB\n"
     ]
    }
   ],
   "source": [
    "df_full = pd.read_pickle(det_landmark_path)\n",
    "df_full.info()"
   ]
  },
  {
   "cell_type": "code",
   "execution_count": 29,
   "id": "ebccff38-6969-4ef1-863d-09dcd6ac8a5e",
   "metadata": {},
   "outputs": [
    {
     "data": {
      "text/html": [
       "<div>\n",
       "<style scoped>\n",
       "    .dataframe tbody tr th:only-of-type {\n",
       "        vertical-align: middle;\n",
       "    }\n",
       "\n",
       "    .dataframe tbody tr th {\n",
       "        vertical-align: top;\n",
       "    }\n",
       "\n",
       "    .dataframe thead th {\n",
       "        text-align: right;\n",
       "    }\n",
       "</style>\n",
       "<table border=\"1\" class=\"dataframe\">\n",
       "  <thead>\n",
       "    <tr style=\"text-align: right;\">\n",
       "      <th></th>\n",
       "      <th>x1</th>\n",
       "      <th>y1</th>\n",
       "      <th>x2</th>\n",
       "      <th>y2</th>\n",
       "      <th>prob</th>\n",
       "      <th>...</th>\n",
       "      <th>bbox_idx</th>\n",
       "      <th>bbox_count</th>\n",
       "      <th>file</th>\n",
       "      <th>lm</th>\n",
       "      <th>lm_abs</th>\n",
       "    </tr>\n",
       "  </thead>\n",
       "  <tbody>\n",
       "    <tr>\n",
       "      <th>0</th>\n",
       "      <td>97.129745</td>\n",
       "      <td>71.833961</td>\n",
       "      <td>318.895782</td>\n",
       "      <td>380.629730</td>\n",
       "      <td>0.946586</td>\n",
       "      <td>...</td>\n",
       "      <td>0</td>\n",
       "      <td>1</td>\n",
       "      <td>/home/sergey/DATASETS_ML/celebA_full/img_celeb...</td>\n",
       "      <td>[[-0.18993533, -0.13224384], [0.16779032, -0.1...</td>\n",
       "      <td>[[165.89156, 185.39551], [245.22295, 176.5262]...</td>\n",
       "    </tr>\n",
       "    <tr>\n",
       "      <th>1</th>\n",
       "      <td>70.320709</td>\n",
       "      <td>94.198738</td>\n",
       "      <td>291.505341</td>\n",
       "      <td>400.276886</td>\n",
       "      <td>0.955572</td>\n",
       "      <td>...</td>\n",
       "      <td>0</td>\n",
       "      <td>1</td>\n",
       "      <td>/home/sergey/DATASETS_ML/celebA_full/img_celeb...</td>\n",
       "      <td>[[-0.1800476, -0.13378587], [0.17763418, -0.13...</td>\n",
       "      <td>[[141.08926, 206.28888], [220.20297, 205.88448...</td>\n",
       "    </tr>\n",
       "    <tr>\n",
       "      <th>2</th>\n",
       "      <td>210.512192</td>\n",
       "      <td>62.626431</td>\n",
       "      <td>295.257965</td>\n",
       "      <td>179.285965</td>\n",
       "      <td>0.818118</td>\n",
       "      <td>...</td>\n",
       "      <td>0</td>\n",
       "      <td>1</td>\n",
       "      <td>/home/sergey/DATASETS_ML/celebA_full/img_celeb...</td>\n",
       "      <td>[[-0.08188743, -0.14684221], [0.10981281, -0.1...</td>\n",
       "      <td>[[245.94545, 103.82565], [262.19125, 105.72919...</td>\n",
       "    </tr>\n",
       "    <tr>\n",
       "      <th>3</th>\n",
       "      <td>563.244446</td>\n",
       "      <td>225.734924</td>\n",
       "      <td>1180.686279</td>\n",
       "      <td>1075.231323</td>\n",
       "      <td>0.867229</td>\n",
       "      <td>...</td>\n",
       "      <td>0</td>\n",
       "      <td>1</td>\n",
       "      <td>/home/sergey/DATASETS_ML/celebA_full/img_celeb...</td>\n",
       "      <td>[[-0.118269525, -0.14782156], [0.18102467, -0....</td>\n",
       "      <td>[[798.9408, 524.9093], [983.73755, 533.18665],...</td>\n",
       "    </tr>\n",
       "    <tr>\n",
       "      <th>4</th>\n",
       "      <td>236.021027</td>\n",
       "      <td>100.996231</td>\n",
       "      <td>365.401611</td>\n",
       "      <td>275.952026</td>\n",
       "      <td>0.917988</td>\n",
       "      <td>...</td>\n",
       "      <td>0</td>\n",
       "      <td>1</td>\n",
       "      <td>/home/sergey/DATASETS_ML/celebA_full/img_celeb...</td>\n",
       "      <td>[[-0.21310681, -0.110190876], [0.19189812, -0....</td>\n",
       "      <td>[[273.1394, 169.19559], [325.53918, 160.43056]...</td>\n",
       "    </tr>\n",
       "  </tbody>\n",
       "</table>\n",
       "<p>5 rows × 11 columns</p>\n",
       "</div>"
      ],
      "text/plain": [
       "           x1          y1           x2           y2      prob  ...  bbox_idx  \\\n",
       "0   97.129745   71.833961   318.895782   380.629730  0.946586  ...         0   \n",
       "1   70.320709   94.198738   291.505341   400.276886  0.955572  ...         0   \n",
       "2  210.512192   62.626431   295.257965   179.285965  0.818118  ...         0   \n",
       "3  563.244446  225.734924  1180.686279  1075.231323  0.867229  ...         0   \n",
       "4  236.021027  100.996231   365.401611   275.952026  0.917988  ...         0   \n",
       "\n",
       "   bbox_count                                               file  \\\n",
       "0           1  /home/sergey/DATASETS_ML/celebA_full/img_celeb...   \n",
       "1           1  /home/sergey/DATASETS_ML/celebA_full/img_celeb...   \n",
       "2           1  /home/sergey/DATASETS_ML/celebA_full/img_celeb...   \n",
       "3           1  /home/sergey/DATASETS_ML/celebA_full/img_celeb...   \n",
       "4           1  /home/sergey/DATASETS_ML/celebA_full/img_celeb...   \n",
       "\n",
       "                                                  lm  \\\n",
       "0  [[-0.18993533, -0.13224384], [0.16779032, -0.1...   \n",
       "1  [[-0.1800476, -0.13378587], [0.17763418, -0.13...   \n",
       "2  [[-0.08188743, -0.14684221], [0.10981281, -0.1...   \n",
       "3  [[-0.118269525, -0.14782156], [0.18102467, -0....   \n",
       "4  [[-0.21310681, -0.110190876], [0.19189812, -0....   \n",
       "\n",
       "                                              lm_abs  \n",
       "0  [[165.89156, 185.39551], [245.22295, 176.5262]...  \n",
       "1  [[141.08926, 206.28888], [220.20297, 205.88448...  \n",
       "2  [[245.94545, 103.82565], [262.19125, 105.72919...  \n",
       "3  [[798.9408, 524.9093], [983.73755, 533.18665],...  \n",
       "4  [[273.1394, 169.19559], [325.53918, 160.43056]...  \n",
       "\n",
       "[5 rows x 11 columns]"
      ]
     },
     "execution_count": 29,
     "metadata": {},
     "output_type": "execute_result"
    }
   ],
   "source": [
    "df_full.head()"
   ]
  },
  {
   "cell_type": "markdown",
   "id": "d61e4cf5-dcae-4272-8512-7850ad9a7818",
   "metadata": {},
   "source": [
    "# Filter probabilities\n",
    "\n",
    "Lets drop images with low probability of face inside a bbox."
   ]
  },
  {
   "cell_type": "code",
   "execution_count": 30,
   "id": "7158a13e-412d-4f4c-a455-f7ca9c7faef4",
   "metadata": {},
   "outputs": [
    {
     "data": {
      "text/plain": [
       "190375"
      ]
     },
     "execution_count": 30,
     "metadata": {},
     "output_type": "execute_result"
    }
   ],
   "source": [
    "tmp = df_full[df_full['prob'] > 0.8]\n",
    "tmp = tmp.drop(columns = 'bbox_count')\n",
    "tmp['bbox_count'] = tmp.groupby('image_idx')['bbox_idx'].transform('count').astype(int)\n",
    "tmp = tmp[tmp['bbox_count'] == 1]\n",
    "len(tmp)"
   ]
  },
  {
   "cell_type": "markdown",
   "id": "ea5e3e02-80d6-4929-99c4-1e2eed5a1dbf",
   "metadata": {},
   "source": [
    "Here are some images with low probabilities."
   ]
  },
  {
   "cell_type": "code",
   "execution_count": 31,
   "id": "ace641a3-8296-4caa-b153-dfb70121b30d",
   "metadata": {},
   "outputs": [
    {
     "name": "stderr",
     "output_type": "stream",
     "text": [
      "/tmp/ipykernel_144278/2236632511.py:14: UserWarning: Matplotlib is currently using agg, which is a non-GUI backend, so cannot show the figure.\n",
      "  plt.show()\n"
     ]
    }
   ],
   "source": [
    "for row in tmp.sort_values('prob').head(20).iterrows():\n",
    "    fig, ax = plt.subplots(figsize=(3,3))\n",
    "    i = row[0]\n",
    "    row = row[1]\n",
    "    image = cv2.imread(row['file'])\n",
    "    image = cv2.cvtColor(image, cv2.COLOR_BGR2RGB)\n",
    "    c = row['lm_abs']\n",
    "    plt.imshow(image)\n",
    "    plt.scatter(c[:,0], c[:,1], c='b', edgecolor='w')\n",
    "    rect = mpl.patches.Rectangle((row['x1'], row['y1']), \n",
    "                                 row['x2']-row['x1'], row['y2']-row['y1'], \n",
    "                                 linewidth=3, edgecolor='r', facecolor='none')\n",
    "    plt.axis('off')\n",
    "    plt.show()"
   ]
  },
  {
   "cell_type": "markdown",
   "id": "c577a0c4-40d6-44b5-ab85-0e6b8379f489",
   "metadata": {},
   "source": [
    "They are all people, yes. But most faces are somehow rotated."
   ]
  },
  {
   "cell_type": "markdown",
   "id": "0706c4ea-2bee-42d9-9a47-79f1f848e959",
   "metadata": {},
   "source": [
    "# Add info about a person"
   ]
  },
  {
   "cell_type": "code",
   "execution_count": 32,
   "id": "133b2de8-c36f-4f57-90f7-780599d29f4f",
   "metadata": {
    "tags": []
   },
   "outputs": [
    {
     "data": {
      "text/html": [
       "<div>\n",
       "<style scoped>\n",
       "    .dataframe tbody tr th:only-of-type {\n",
       "        vertical-align: middle;\n",
       "    }\n",
       "\n",
       "    .dataframe tbody tr th {\n",
       "        vertical-align: top;\n",
       "    }\n",
       "\n",
       "    .dataframe thead th {\n",
       "        text-align: right;\n",
       "    }\n",
       "</style>\n",
       "<table border=\"1\" class=\"dataframe\">\n",
       "  <thead>\n",
       "    <tr style=\"text-align: right;\">\n",
       "      <th></th>\n",
       "      <th>image_id</th>\n",
       "      <th>person</th>\n",
       "      <th>part</th>\n",
       "    </tr>\n",
       "  </thead>\n",
       "  <tbody>\n",
       "    <tr>\n",
       "      <th>0</th>\n",
       "      <td>000001.jpg</td>\n",
       "      <td>2880</td>\n",
       "      <td>0</td>\n",
       "    </tr>\n",
       "    <tr>\n",
       "      <th>1</th>\n",
       "      <td>000002.jpg</td>\n",
       "      <td>2937</td>\n",
       "      <td>0</td>\n",
       "    </tr>\n",
       "    <tr>\n",
       "      <th>2</th>\n",
       "      <td>000003.jpg</td>\n",
       "      <td>8692</td>\n",
       "      <td>0</td>\n",
       "    </tr>\n",
       "    <tr>\n",
       "      <th>3</th>\n",
       "      <td>000004.jpg</td>\n",
       "      <td>5805</td>\n",
       "      <td>0</td>\n",
       "    </tr>\n",
       "    <tr>\n",
       "      <th>4</th>\n",
       "      <td>000005.jpg</td>\n",
       "      <td>9295</td>\n",
       "      <td>0</td>\n",
       "    </tr>\n",
       "  </tbody>\n",
       "</table>\n",
       "</div>"
      ],
      "text/plain": [
       "     image_id  person  part\n",
       "0  000001.jpg    2880     0\n",
       "1  000002.jpg    2937     0\n",
       "2  000003.jpg    8692     0\n",
       "3  000004.jpg    5805     0\n",
       "4  000005.jpg    9295     0"
      ]
     },
     "execution_count": 32,
     "metadata": {},
     "output_type": "execute_result"
    }
   ],
   "source": [
    "def get_annot_df(ds_path):\n",
    "\n",
    "    persons = mmcv.list_from_file(ds_path + 'Anno/identity_CelebA.txt')\n",
    "    persons = [i.split() for i in persons]\n",
    "    cols = ['image_id'] + persons[0]\n",
    "    persons = pd.DataFrame(persons, columns=['image_id', 'person'])\n",
    "    persons = persons.set_index('image_id')\n",
    "    persons = persons.astype(int)\n",
    "    \n",
    "    partitions = mmcv.list_from_file(ds_path + 'Anno/list_eval_partition.txt')\n",
    "    partitions = [i.split() for i in partitions]\n",
    "    partitions = pd.DataFrame(partitions, columns=['image_id', 'part'])\n",
    "    partitions = partitions.set_index('image_id')\n",
    "    partitions = partitions.astype(int)\n",
    "    \n",
    "    df = persons.join([partitions]).reset_index(drop=False)\n",
    "    \n",
    "    df = df.rename(columns=dict(\n",
    "        x_1 = 'bbox_hor_top',\n",
    "        y_1 = 'bbox_ver_top',\n",
    "    ))\n",
    "    \n",
    "    for c in df.columns:\n",
    "        if '_x' in c:\n",
    "            df[c] = df[c] - df['bbox_hor_top']\n",
    "        if '_y' in c:\n",
    "            df[c] = df[c] - df['bbox_ver_top']\n",
    "\n",
    "    return df\n",
    "\n",
    "df_annot = get_annot_df(ds_path)\n",
    "df_annot.head()"
   ]
  },
  {
   "cell_type": "code",
   "execution_count": 33,
   "id": "1856eb75-1b2d-40af-b09c-b6b62e0d2fad",
   "metadata": {},
   "outputs": [
    {
     "data": {
      "text/html": [
       "<div>\n",
       "<style scoped>\n",
       "    .dataframe tbody tr th:only-of-type {\n",
       "        vertical-align: middle;\n",
       "    }\n",
       "\n",
       "    .dataframe tbody tr th {\n",
       "        vertical-align: top;\n",
       "    }\n",
       "\n",
       "    .dataframe thead th {\n",
       "        text-align: right;\n",
       "    }\n",
       "</style>\n",
       "<table border=\"1\" class=\"dataframe\">\n",
       "  <thead>\n",
       "    <tr style=\"text-align: right;\">\n",
       "      <th></th>\n",
       "      <th>x1</th>\n",
       "      <th>y1</th>\n",
       "      <th>x2</th>\n",
       "      <th>y2</th>\n",
       "      <th>prob</th>\n",
       "      <th>...</th>\n",
       "      <th>file</th>\n",
       "      <th>lm</th>\n",
       "      <th>lm_abs</th>\n",
       "      <th>bbox_count</th>\n",
       "      <th>image_id</th>\n",
       "    </tr>\n",
       "  </thead>\n",
       "  <tbody>\n",
       "    <tr>\n",
       "      <th>0</th>\n",
       "      <td>97.129745</td>\n",
       "      <td>71.833961</td>\n",
       "      <td>318.895782</td>\n",
       "      <td>380.629730</td>\n",
       "      <td>0.946586</td>\n",
       "      <td>...</td>\n",
       "      <td>/home/sergey/DATASETS_ML/celebA_full/img_celeb...</td>\n",
       "      <td>[[-0.18993533, -0.13224384], [0.16779032, -0.1...</td>\n",
       "      <td>[[165.89156, 185.39551], [245.22295, 176.5262]...</td>\n",
       "      <td>1</td>\n",
       "      <td>000001.jpg</td>\n",
       "    </tr>\n",
       "    <tr>\n",
       "      <th>1</th>\n",
       "      <td>70.320709</td>\n",
       "      <td>94.198738</td>\n",
       "      <td>291.505341</td>\n",
       "      <td>400.276886</td>\n",
       "      <td>0.955572</td>\n",
       "      <td>...</td>\n",
       "      <td>/home/sergey/DATASETS_ML/celebA_full/img_celeb...</td>\n",
       "      <td>[[-0.1800476, -0.13378587], [0.17763418, -0.13...</td>\n",
       "      <td>[[141.08926, 206.28888], [220.20297, 205.88448...</td>\n",
       "      <td>1</td>\n",
       "      <td>000002.jpg</td>\n",
       "    </tr>\n",
       "    <tr>\n",
       "      <th>2</th>\n",
       "      <td>210.512192</td>\n",
       "      <td>62.626431</td>\n",
       "      <td>295.257965</td>\n",
       "      <td>179.285965</td>\n",
       "      <td>0.818118</td>\n",
       "      <td>...</td>\n",
       "      <td>/home/sergey/DATASETS_ML/celebA_full/img_celeb...</td>\n",
       "      <td>[[-0.08188743, -0.14684221], [0.10981281, -0.1...</td>\n",
       "      <td>[[245.94545, 103.82565], [262.19125, 105.72919...</td>\n",
       "      <td>1</td>\n",
       "      <td>000003.jpg</td>\n",
       "    </tr>\n",
       "    <tr>\n",
       "      <th>3</th>\n",
       "      <td>563.244446</td>\n",
       "      <td>225.734924</td>\n",
       "      <td>1180.686279</td>\n",
       "      <td>1075.231323</td>\n",
       "      <td>0.867229</td>\n",
       "      <td>...</td>\n",
       "      <td>/home/sergey/DATASETS_ML/celebA_full/img_celeb...</td>\n",
       "      <td>[[-0.118269525, -0.14782156], [0.18102467, -0....</td>\n",
       "      <td>[[798.9408, 524.9093], [983.73755, 533.18665],...</td>\n",
       "      <td>1</td>\n",
       "      <td>000004.jpg</td>\n",
       "    </tr>\n",
       "    <tr>\n",
       "      <th>4</th>\n",
       "      <td>236.021027</td>\n",
       "      <td>100.996231</td>\n",
       "      <td>365.401611</td>\n",
       "      <td>275.952026</td>\n",
       "      <td>0.917988</td>\n",
       "      <td>...</td>\n",
       "      <td>/home/sergey/DATASETS_ML/celebA_full/img_celeb...</td>\n",
       "      <td>[[-0.21310681, -0.110190876], [0.19189812, -0....</td>\n",
       "      <td>[[273.1394, 169.19559], [325.53918, 160.43056]...</td>\n",
       "      <td>1</td>\n",
       "      <td>000005.jpg</td>\n",
       "    </tr>\n",
       "  </tbody>\n",
       "</table>\n",
       "<p>5 rows × 12 columns</p>\n",
       "</div>"
      ],
      "text/plain": [
       "           x1          y1           x2           y2      prob  ...  \\\n",
       "0   97.129745   71.833961   318.895782   380.629730  0.946586  ...   \n",
       "1   70.320709   94.198738   291.505341   400.276886  0.955572  ...   \n",
       "2  210.512192   62.626431   295.257965   179.285965  0.818118  ...   \n",
       "3  563.244446  225.734924  1180.686279  1075.231323  0.867229  ...   \n",
       "4  236.021027  100.996231   365.401611   275.952026  0.917988  ...   \n",
       "\n",
       "                                                file  \\\n",
       "0  /home/sergey/DATASETS_ML/celebA_full/img_celeb...   \n",
       "1  /home/sergey/DATASETS_ML/celebA_full/img_celeb...   \n",
       "2  /home/sergey/DATASETS_ML/celebA_full/img_celeb...   \n",
       "3  /home/sergey/DATASETS_ML/celebA_full/img_celeb...   \n",
       "4  /home/sergey/DATASETS_ML/celebA_full/img_celeb...   \n",
       "\n",
       "                                                  lm  \\\n",
       "0  [[-0.18993533, -0.13224384], [0.16779032, -0.1...   \n",
       "1  [[-0.1800476, -0.13378587], [0.17763418, -0.13...   \n",
       "2  [[-0.08188743, -0.14684221], [0.10981281, -0.1...   \n",
       "3  [[-0.118269525, -0.14782156], [0.18102467, -0....   \n",
       "4  [[-0.21310681, -0.110190876], [0.19189812, -0....   \n",
       "\n",
       "                                              lm_abs bbox_count    image_id  \n",
       "0  [[165.89156, 185.39551], [245.22295, 176.5262]...          1  000001.jpg  \n",
       "1  [[141.08926, 206.28888], [220.20297, 205.88448...          1  000002.jpg  \n",
       "2  [[245.94545, 103.82565], [262.19125, 105.72919...          1  000003.jpg  \n",
       "3  [[798.9408, 524.9093], [983.73755, 533.18665],...          1  000004.jpg  \n",
       "4  [[273.1394, 169.19559], [325.53918, 160.43056]...          1  000005.jpg  \n",
       "\n",
       "[5 rows x 12 columns]"
      ]
     },
     "execution_count": 33,
     "metadata": {},
     "output_type": "execute_result"
    }
   ],
   "source": [
    "tmp['image_id'] = tmp['file'].str.split('/').apply(lambda x: x[-1])\n",
    "tmp.head()"
   ]
  },
  {
   "cell_type": "code",
   "execution_count": 34,
   "id": "903cb8ae-2eaa-4826-8987-35b85883c184",
   "metadata": {},
   "outputs": [
    {
     "data": {
      "text/html": [
       "<div>\n",
       "<style scoped>\n",
       "    .dataframe tbody tr th:only-of-type {\n",
       "        vertical-align: middle;\n",
       "    }\n",
       "\n",
       "    .dataframe tbody tr th {\n",
       "        vertical-align: top;\n",
       "    }\n",
       "\n",
       "    .dataframe thead th {\n",
       "        text-align: right;\n",
       "    }\n",
       "</style>\n",
       "<table border=\"1\" class=\"dataframe\">\n",
       "  <thead>\n",
       "    <tr style=\"text-align: right;\">\n",
       "      <th></th>\n",
       "      <th>file</th>\n",
       "      <th>lm_abs</th>\n",
       "      <th>person</th>\n",
       "      <th>part</th>\n",
       "      <th>w</th>\n",
       "      <th>h</th>\n",
       "    </tr>\n",
       "    <tr>\n",
       "      <th>image_id</th>\n",
       "      <th></th>\n",
       "      <th></th>\n",
       "      <th></th>\n",
       "      <th></th>\n",
       "      <th></th>\n",
       "      <th></th>\n",
       "    </tr>\n",
       "  </thead>\n",
       "  <tbody>\n",
       "    <tr>\n",
       "      <th>000001.jpg</th>\n",
       "      <td>/home/sergey/DATASETS_ML/celebA_full/img_celeb...</td>\n",
       "      <td>[[165.89156, 185.39551], [245.22295, 176.5262]...</td>\n",
       "      <td>2880</td>\n",
       "      <td>0</td>\n",
       "      <td>221.766037</td>\n",
       "      <td>308.795769</td>\n",
       "    </tr>\n",
       "    <tr>\n",
       "      <th>000002.jpg</th>\n",
       "      <td>/home/sergey/DATASETS_ML/celebA_full/img_celeb...</td>\n",
       "      <td>[[141.08926, 206.28888], [220.20297, 205.88448...</td>\n",
       "      <td>2937</td>\n",
       "      <td>0</td>\n",
       "      <td>221.184631</td>\n",
       "      <td>306.078148</td>\n",
       "    </tr>\n",
       "    <tr>\n",
       "      <th>000003.jpg</th>\n",
       "      <td>/home/sergey/DATASETS_ML/celebA_full/img_celeb...</td>\n",
       "      <td>[[245.94545, 103.82565], [262.19125, 105.72919...</td>\n",
       "      <td>8692</td>\n",
       "      <td>0</td>\n",
       "      <td>84.745773</td>\n",
       "      <td>116.659534</td>\n",
       "    </tr>\n",
       "    <tr>\n",
       "      <th>000004.jpg</th>\n",
       "      <td>/home/sergey/DATASETS_ML/celebA_full/img_celeb...</td>\n",
       "      <td>[[798.9408, 524.9093], [983.73755, 533.18665],...</td>\n",
       "      <td>5805</td>\n",
       "      <td>0</td>\n",
       "      <td>617.441833</td>\n",
       "      <td>849.496399</td>\n",
       "    </tr>\n",
       "    <tr>\n",
       "      <th>000005.jpg</th>\n",
       "      <td>/home/sergey/DATASETS_ML/celebA_full/img_celeb...</td>\n",
       "      <td>[[273.1394, 169.19559], [325.53918, 160.43056]...</td>\n",
       "      <td>9295</td>\n",
       "      <td>0</td>\n",
       "      <td>129.380585</td>\n",
       "      <td>174.955795</td>\n",
       "    </tr>\n",
       "  </tbody>\n",
       "</table>\n",
       "</div>"
      ],
      "text/plain": [
       "                                                         file  \\\n",
       "image_id                                                        \n",
       "000001.jpg  /home/sergey/DATASETS_ML/celebA_full/img_celeb...   \n",
       "000002.jpg  /home/sergey/DATASETS_ML/celebA_full/img_celeb...   \n",
       "000003.jpg  /home/sergey/DATASETS_ML/celebA_full/img_celeb...   \n",
       "000004.jpg  /home/sergey/DATASETS_ML/celebA_full/img_celeb...   \n",
       "000005.jpg  /home/sergey/DATASETS_ML/celebA_full/img_celeb...   \n",
       "\n",
       "                                                       lm_abs  person  part  \\\n",
       "image_id                                                                      \n",
       "000001.jpg  [[165.89156, 185.39551], [245.22295, 176.5262]...    2880     0   \n",
       "000002.jpg  [[141.08926, 206.28888], [220.20297, 205.88448...    2937     0   \n",
       "000003.jpg  [[245.94545, 103.82565], [262.19125, 105.72919...    8692     0   \n",
       "000004.jpg  [[798.9408, 524.9093], [983.73755, 533.18665],...    5805     0   \n",
       "000005.jpg  [[273.1394, 169.19559], [325.53918, 160.43056]...    9295     0   \n",
       "\n",
       "                     w           h  \n",
       "image_id                            \n",
       "000001.jpg  221.766037  308.795769  \n",
       "000002.jpg  221.184631  306.078148  \n",
       "000003.jpg   84.745773  116.659534  \n",
       "000004.jpg  617.441833  849.496399  \n",
       "000005.jpg  129.380585  174.955795  "
      ]
     },
     "execution_count": 34,
     "metadata": {},
     "output_type": "execute_result"
    }
   ],
   "source": [
    "df_final = tmp.merge(df_annot, on='image_id', how='left', validate='many_to_one')\n",
    "df_final['w'] = df_final['x2'] - df_final['x1']\n",
    "df_final['h'] = df_final['y2'] - df_final['y1']\n",
    "col_drop = ['bbox_count', 'prob', 'lm', 'image_idx', 'bbox_idx', 'x1', 'x2', 'y1', 'y2']\n",
    "df_final = df_final.drop(columns=col_drop)\n",
    "df_final = df_final.set_index('image_id')\n",
    "df_final.head()"
   ]
  },
  {
   "cell_type": "markdown",
   "id": "eb374ccd-75e8-4d62-b895-a2c402f4a232",
   "metadata": {},
   "source": [
    "Aaaaand save."
   ]
  },
  {
   "cell_type": "code",
   "execution_count": 35,
   "id": "33ca3f82-2e40-43c0-b2e3-f6d0e8e11cbd",
   "metadata": {},
   "outputs": [],
   "source": [
    "df_final.to_pickle(fin_landmark_path)"
   ]
  },
  {
   "cell_type": "markdown",
   "id": "0065b8b7-e488-4aaa-a997-b5e841070efc",
   "metadata": {},
   "source": [
    "# Number of images per person"
   ]
  },
  {
   "cell_type": "code",
   "execution_count": 40,
   "id": "7c4a8a31-40bf-4404-a63b-b6dd7cebcdff",
   "metadata": {},
   "outputs": [
    {
     "data": {
      "image/png": "[encoded data removed]",
      "text/plain": [
       "<Figure size 432x288 with 1 Axes>"
      ]
     },
     "metadata": {
      "needs_background": "light"
     },
     "output_type": "display_data"
    }
   ],
   "source": [
    "df_final['count'] = df_final.groupby('person')['w'].transform('count')\n",
    "plt.hist(df_final.groupby('person')['w'].count(), bins = np.arange(0, 35, 1));"
   ]
  },
  {
   "cell_type": "markdown",
   "id": "7a084536-73b6-4785-8d0a-32ae27b059e4",
   "metadata": {},
   "source": [
    "There are some classes (few hundreds) havind less than 5 photos!"
   ]
  }
 ],
 "metadata": {
  "kernelspec": {
   "display_name": "Python 3 (ipykernel)",
   "language": "python",
   "name": "python3"
  },
  "language_info": {
   "codemirror_mode": {
    "name": "ipython",
    "version": 3
   },
   "file_extension": ".py",
   "mimetype": "text/x-python",
   "name": "python",
   "nbconvert_exporter": "python",
   "pygments_lexer": "ipython3",
   "version": "3.9.7"
  }
 },
 "nbformat": 4,
 "nbformat_minor": 5
}
