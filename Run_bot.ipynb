{
 "cells": [
  {
   "cell_type": "markdown",
   "id": "eef7b4f8-65ae-45f7-8b51-8a207e8ae267",
   "metadata": {},
   "source": [
    "Notebook to run the bot in jupyter"
   ]
  },
  {
   "cell_type": "code",
   "execution_count": null,
   "id": "5c8fd993-5481-45c6-9ccc-a2a461e6f546",
   "metadata": {},
   "outputs": [],
   "source": [
    "%run telegram_bot.py"
   ]
  },
  {
   "cell_type": "code",
   "execution_count": null,
   "id": "0b4f7de5-d795-4244-9507-02aa5a467202",
   "metadata": {},
   "outputs": [],
   "source": []
  }
 ],
 "metadata": {
  "kernelspec": {
   "display_name": "Python 3 (ipykernel)",
   "language": "python",
   "name": "python3"
  },
  "language_info": {
   "codemirror_mode": {
    "name": "ipython",
    "version": 3
   },
   "file_extension": ".py",
   "mimetype": "text/x-python",
   "name": "python",
   "nbconvert_exporter": "python",
   "pygments_lexer": "ipython3",
   "version": "3.9.12"
  }
 },
 "nbformat": 4,
 "nbformat_minor": 5
}
